{
 "cells": [
  {
   "cell_type": "code",
   "execution_count": null,
   "id": "a15d0927-1f91-41b9-8ce6-40eb1a3475b8",
   "metadata": {},
   "outputs": [],
   "source": [
    "Q1. Load the \"titanic\" dataset using the load_dataset function of seaborn. Use Plotly express to plot a\n",
    "scatter plot for age and fare columns in the titanic dataset.\n",
    "ans-\n",
    "Sure, here's the code to load the \"titanic\" dataset using seaborn and create a scatter plot using Plotly Express:\n",
    "\n",
    "python\n",
    "Copy code\n",
    "import seaborn as sns\n",
    "import plotly.express as px\n",
    "\n",
    "# Load the titanic dataset\n",
    "titanic = sns.load_dataset(\"titanic\")\n",
    "\n",
    "# Create the scatter plot using Plotly Express\n",
    "fig = px.scatter(titanic, x=\"age\", y=\"fare\", color=\"class\")\n",
    "\n",
    "# Show the plot\n",
    "fig.show()\n",
    "In this code, we first import the seaborn library using the alias \"sns\" and the plotly express library using the alias \"px\". We then load the \"titanic\" dataset using the load_dataset function of seaborn, and store it in the variable titanic.\n",
    "\n",
    "Next, we use the scatter function of Plotly Express to create the scatter plot. We pass the titanic dataset to the function and specify the x-axis as \"age\" and the y-axis as \"fare\". We also use the color parameter to group the data by \"class\", which will be represented by different colors in the plot.\n",
    "\n",
    "Finally, we use the show method to display the plot.\n",
    "\n",
    "This code will create a scatter plot of the \"age\" and \"fare\" columns in the titanic dataset, with each point representing a passenger. The points will be colored by the \"class\" column, which represents the passenger class (first, second, or third). The scatter plot created using Plotly Express is interactive, allowing the user to zoom in, pan, and hover over individual points to see their values.\n",
    "\n",
    "\n",
    "\n",
    "\n",
    "\n"
   ]
  },
  {
   "cell_type": "code",
   "execution_count": null,
   "id": "c7a0ca54-2621-4103-b7e5-61b2a49bd518",
   "metadata": {},
   "outputs": [],
   "source": [
    "Q2. Using the tips dataset in the Plotly library, plot a box plot using Plotly express.\n",
    "ans-\n",
    "Sure, here's the code to load the \"tips\" dataset using Plotly and create a box plot using Plotly Express:\n",
    "\n",
    "python\n",
    "Copy code\n",
    "import plotly.express as px\n",
    "\n",
    "# Load the tips dataset\n",
    "tips = px.data.tips()\n",
    "\n",
    "# Create the box plot using Plotly Express\n",
    "fig = px.box(tips, x=\"day\", y=\"total_bill\", color=\"sex\")\n",
    "\n",
    "# Show the plot\n",
    "fig.show()\n",
    "In this code, we first import the plotly express library using the alias \"px\". We then load the \"tips\" dataset from the plotly.data module using the tips function, and store it in the variable tips.\n",
    "\n",
    "Next, we use the box function of Plotly Express to create the box plot. We pass the tips dataset to the function and specify the x-axis as \"day\" and the y-axis as \"total_bill\". We also use the color parameter to group the data by \"sex\", which will be represented by different colors in the plot.\n",
    "\n",
    "Finally, we use the show method to display the plot.\n",
    "\n",
    "This code will create a box plot of the \"total_bill\" column in the tips dataset, with each box representing the distribution of values for a specific day of the week. The boxes will be colored by the \"sex\" column, which represents the gender of the person paying the bill. The box plot created using Plotly Express is interactive, allowing the user to hover over individual boxes to see their statistics.\n",
    "\n",
    "\n",
    "\n",
    "\n",
    "\n"
   ]
  },
  {
   "cell_type": "code",
   "execution_count": null,
   "id": "4b5c2e4b-ee96-47a3-96b4-159ec57a9fbe",
   "metadata": {},
   "outputs": [],
   "source": [
    "Q3. Using the tips dataset in the Plotly library, Plot a histogram for x= \"sex\" and y=\"total_bill\" column in\n",
    "the tips dataset. Also, use the \"smoker\" column with the pattern_shape parameter and the \"day\"\n",
    "column with the color parameter.\n",
    "ans-\n",
    "Plotly Express does not have a direct histogram function for categorical data, but we can use a bar chart to represent the data instead. Here's the code to create a bar chart for the \"sex\" and \"total_bill\" columns in the tips dataset, with \"smoker\" represented by different shapes and \"day\" represented by different colors:\n",
    "\n",
    "python\n",
    "Copy code\n",
    "import plotly.express as px\n",
    "\n",
    "# Load the tips dataset\n",
    "tips = px.data.tips()\n",
    "\n",
    "# Create the bar chart using Plotly Express\n",
    "fig = px.bar(tips, x=\"sex\", y=\"total_bill\", color=\"day\", barmode=\"group\",\n",
    "             pattern_shape=\"smoker\", pattern_shape_sequence=[\".\", \"x\"],\n",
    "             category_orders={\"day\": [\"Thur\", \"Fri\", \"Sat\", \"Sun\"]})\n",
    "\n",
    "# Show the plot\n",
    "fig.show()\n",
    "In this code, we first import the plotly express library using the alias \"px\". We then load the \"tips\" dataset from the plotly.data module using the tips function, and store it in the variable tips.\n",
    "\n",
    "Next, we use the bar function of Plotly Express to create the bar chart. We pass the tips dataset to the function and specify the x-axis as \"sex\" and the y-axis as \"total_bill\". We also use the color parameter to group the data by \"day\", which will be represented by different colors in the plot. The barmode parameter is set to \"group\" to group the bars by category (\"sex\" in this case). The pattern_shape parameter is set to \"smoker\" to group the data by the \"smoker\" column, which will be represented by different shapes (\".\" and \"x\" in this case). Finally, we use the category_orders parameter to set the order of the categories on the x-axis to \"Thur\", \"Fri\", \"Sat\", and \"Sun\", which are the days of the week in the \"day\" column of the tips dataset.\n",
    "\n",
    "Finally, we use the show method to display the plot.\n",
    "\n",
    "This code will create a bar chart of the \"total_bill\" column in the tips dataset, with bars grouped by gender (\"sex\") and colored by day of the week (\"day\"). The bars will also be patterned by the \"smoker\" column, with smokers represented by \"x\" and non-smokers represented by \".\". The bar chart created using Plotly Express is interactive, allowing the user to hover over individual bars to see their values.\n",
    "\n",
    "\n",
    "\n",
    "\n"
   ]
  },
  {
   "cell_type": "code",
   "execution_count": null,
   "id": "c57d201b-c380-4b2c-bd8f-e53077dc50e4",
   "metadata": {},
   "outputs": [],
   "source": [
    "Q4. Using the iris dataset in the Plotly library, Plot a scatter matrix plot, using the \"species\" column for\n",
    "the color parameter.\n",
    "Note: Use \"sepal_length\", \"sepal_width\", \"petal_length\", \"petal_width\" columns only with the\n",
    "dimensions parameter.\n",
    "ans-\n",
    "Here's the code to create a scatter matrix plot for the \"iris\" dataset in Plotly Express, using the \"species\" column for the color parameter:\n",
    "\n",
    "python\n",
    "Copy code\n",
    "import plotly.express as px\n",
    "\n",
    "# Load the iris dataset\n",
    "iris = px.data.iris()\n",
    "\n",
    "# Create the scatter matrix plot using Plotly Express\n",
    "fig = px.scatter_matrix(iris, dimensions=[\"sepal_length\", \"sepal_width\", \"petal_length\", \"petal_width\"],\n",
    "                        color=\"species\")\n",
    "\n",
    "# Show the plot\n",
    "fig.show()\n",
    "In this code, we first import the plotly express library using the alias \"px\". We then load the \"iris\" dataset from the plotly.data module using the iris function, and store it in the variable iris.\n",
    "\n",
    "Next, we use the scatter_matrix function of Plotly Express to create the scatter matrix plot. We pass the iris dataset to the function and specify the four dimensions to include on the x and y axes using the dimensions parameter. We set the color parameter to \"species\" to group the data by species, which will be represented by different colors in the plot.\n",
    "\n",
    "Finally, we use the show method to display the plot.\n",
    "\n",
    "This code will create a scatter matrix plot for the \"iris\" dataset in Plotly Express, showing the relationships between the \"sepal_length\", \"sepal_width\", \"petal_length\", and \"petal_width\" columns. Each point in the plot represents a single observation, with the color indicating the species of the iris. The scatter matrix plot is interactive, allowing the user to zoom in and out and pan around the plot to explore the data.\n",
    "\n",
    "\n",
    "\n",
    "\n"
   ]
  },
  {
   "cell_type": "code",
   "execution_count": 1,
   "id": "ce0ea2ec-dd8f-426e-9992-650b3972394a",
   "metadata": {},
   "outputs": [
    {
     "ename": "SyntaxError",
     "evalue": "invalid syntax (1716250696.py, line 1)",
     "output_type": "error",
     "traceback": [
      "\u001b[0;36m  Cell \u001b[0;32mIn[1], line 1\u001b[0;36m\u001b[0m\n\u001b[0;31m    Q5. What is Distplot? Using Plotly express, plot a distplot.\u001b[0m\n\u001b[0m                        ^\u001b[0m\n\u001b[0;31mSyntaxError\u001b[0m\u001b[0;31m:\u001b[0m invalid syntax\n"
     ]
    }
   ],
   "source": [
    "Q5. What is Distplot? Using Plotly express, plot a distplot\n",
    "ans-\n",
    "."
   ]
  },
  {
   "cell_type": "code",
   "execution_count": null,
   "id": "b3c737be-f906-4c25-88f5-e27523381416",
   "metadata": {},
   "outputs": [],
   "source": []
  },
  {
   "cell_type": "code",
   "execution_count": null,
   "id": "6fcfab87-42ea-48d0-a052-d0ea02cd465f",
   "metadata": {},
   "outputs": [],
   "source": []
  },
  {
   "cell_type": "code",
   "execution_count": null,
   "id": "f1db50a8-a581-448d-b5d5-b2c9088cdabe",
   "metadata": {},
   "outputs": [],
   "source": []
  },
  {
   "cell_type": "code",
   "execution_count": null,
   "id": "21f7d466-9eaa-432a-8503-7149094fa9db",
   "metadata": {},
   "outputs": [],
   "source": []
  },
  {
   "cell_type": "code",
   "execution_count": null,
   "id": "c23a8464-2df3-497a-baeb-6f25961a0595",
   "metadata": {},
   "outputs": [],
   "source": []
  },
  {
   "cell_type": "code",
   "execution_count": null,
   "id": "413506e9-62f5-4789-85f3-7fc46e007478",
   "metadata": {},
   "outputs": [],
   "source": []
  }
 ],
 "metadata": {
  "kernelspec": {
   "display_name": "Python 3 (ipykernel)",
   "language": "python",
   "name": "python3"
  },
  "language_info": {
   "codemirror_mode": {
    "name": "ipython",
    "version": 3
   },
   "file_extension": ".py",
   "mimetype": "text/x-python",
   "name": "python",
   "nbconvert_exporter": "python",
   "pygments_lexer": "ipython3",
   "version": "3.10.8"
  }
 },
 "nbformat": 4,
 "nbformat_minor": 5
}
